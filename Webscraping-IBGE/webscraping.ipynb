{
 "cells": [
  {
   "cell_type": "markdown",
   "source": [
    "# **Importar bibliotecas**"
   ],
   "metadata": {}
  },
  {
   "cell_type": "code",
   "execution_count": 75,
   "source": [
    "import re\n",
    "import requests\n",
    "import pandas as pd\n",
    "from bs4 import BeautifulSoup"
   ],
   "outputs": [],
   "metadata": {}
  },
  {
   "cell_type": "markdown",
   "source": [
    "# **Fazer o request**  "
   ],
   "metadata": {}
  },
  {
   "cell_type": "code",
   "execution_count": 2,
   "source": [
    "url = \"https://www.ibge.gov.br/indicadores.html\"\n",
    "pagina = requests.get(url)"
   ],
   "outputs": [],
   "metadata": {}
  },
  {
   "cell_type": "markdown",
   "source": [
    "# **Filtrar e selecionar o conteudo das tabelas**"
   ],
   "metadata": {}
  },
  {
   "cell_type": "code",
   "execution_count": 3,
   "source": [
    "soup = BeautifulSoup(pagina.content, \"html.parser\")\n",
    "\n",
    "tabela = soup.find(class_=\"indicadores-tabela indicadores-economicos\")\n",
    "titulo = soup.find(\"th\", class_=\"ultimo\").text\n",
    "\n",
    "rows = tabela.find_all(class_=\"nonsprite\")\n",
    "index = [id.text for id in rows]\n",
    "\n",
    "conteudo = tabela.find_all(class_=re.compile(r\"table\\-accordion.+\"))"
   ],
   "outputs": [],
   "metadata": {}
  },
  {
   "cell_type": "code",
   "execution_count": 73,
   "source": [
    "ultimo = [\"vazio\" if conteudo[n].find(class_=\"ultimo\") is None else conteudo[n].find(class_=\"ultimo\").text for n in list(range(0,20,2))]\n",
    "anterior = [\"vazio\" if conteudo[n].find(class_=\"desktop-tablet-only anterior\") is None else conteudo[n].find(class_=\"desktop-tablet-only anterior\").text for n in list(range(0,20,2))]\n",
    "doze_meses = [\"vazio\" if conteudo[n].find(class_=\"desktop-tablet-only dozemeses\") is None else conteudo[n].find(class_=\"desktop-tablet-only dozemeses\").text for n in list(range(0,20,2))]\n",
    "anual = [\"vazio\" if conteudo[n].find(class_=\"desktop-tablet-only ano\") is None else conteudo[n].find(class_=\"desktop-tablet-only ano\").text for n in list(range(0,20,2))]"
   ],
   "outputs": [],
   "metadata": {}
  },
  {
   "cell_type": "markdown",
   "source": [
    "# **Limpeza dos dados**"
   ],
   "metadata": {}
  },
  {
   "cell_type": "code",
   "execution_count": 134,
   "source": [
    "index = [re.sub(r\"\\n|^\\r\\n\", \"\", id).strip() for id in index]"
   ],
   "outputs": [],
   "metadata": {}
  },
  {
   "cell_type": "code",
   "execution_count": 137,
   "source": [
    "dataset = pd.DataFrame({\"Último\": ultimo, \"Anterior\": anterior, \"Doze meses\": doze_meses, \"No ano\": anual}, index = index).rename_axis(titulo, axis=0)"
   ],
   "outputs": [],
   "metadata": {}
  },
  {
   "cell_type": "code",
   "execution_count": 136,
   "source": [
    "dataset.replace(regex=r\"\\n|\\r|^\\r\\n\", value=\"\", inplace = True)\n",
    "\n",
    "# Transformar dados em integer\n",
    "\n",
    "dataset"
   ],
   "outputs": [
    {
     "output_type": "execute_result",
     "data": {
      "text/plain": [
       "                                                                   Último  \\\n",
       "Indicadores econômicos                                                      \n",
       "IPCA (%)                 Último                            0,96 jul 2021    \n",
       "INPC (%)                 Último                            1,02 jul 2021    \n",
       "IPCA-15 (%)              Último                            0,72 jul 2021    \n",
       "IPP (%)                  Último                            1,31 jun 2021    \n",
       "Custo do m² (%)          Último                            1,89 jul 2021    \n",
       "Variação do PIB (%)     Último                            1,0 1º tri 2...   \n",
       "PIB per capita (R$)     Último                            33.593,82  2...   \n",
       "Indústria (%)             Último                            0,0 jun 2021    \n",
       "Comércio (%)             Último                            -1,7 jun 2021    \n",
       "Serviços (%)              Último                            1,7 jun 2021    \n",
       "\n",
       "                                                                 Anterior  \\\n",
       "Indicadores econômicos                                                      \n",
       "IPCA (%)                Anterior                            0,53 jun 2...   \n",
       "INPC (%)                Anterior                            0,60 jun 2...   \n",
       "IPCA-15 (%)             Anterior                            0,83 jun 2...   \n",
       "IPP (%)                 Anterior                            0,99 mai 2...   \n",
       "Custo do m² (%)         Anterior                            2,46 jun 2...   \n",
       "Variação do PIB (%)     Anterior                            -1,1 4º tr...   \n",
       "PIB per capita (R$)     Anterior                            31.843,95 ...   \n",
       "Indústria (%)           Anterior                            1,4 mai 2021    \n",
       "Comércio (%)            Anterior                            2,7 mai 2021    \n",
       "Serviços (%)            Anterior                            1,7 mai 2021    \n",
       "\n",
       "                                                               Doze meses  \\\n",
       "Indicadores econômicos                                                      \n",
       "IPCA (%)                12 meses                            8,99      ...   \n",
       "INPC (%)                12 meses                            9,85      ...   \n",
       "IPCA-15 (%)             12 meses                            8,59      ...   \n",
       "IPP (%)                 12 meses                            36,81     ...   \n",
       "Custo do m² (%)         12 meses                            22,60     ...   \n",
       "Variação do PIB (%)     12 meses                            -3,8      ...   \n",
       "PIB per capita (R$)     12 meses                            -         ...   \n",
       "Indústria (%)           12 meses                            6,6       ...   \n",
       "Comércio (%)            12 meses                            5,9       ...   \n",
       "Serviços (%)            12 meses                            0,4       ...   \n",
       "\n",
       "                                                                   No ano  \n",
       "Indicadores econômicos                                                     \n",
       "IPCA (%)                No ano                            4,76        ...  \n",
       "INPC (%)                No ano                            5,01        ...  \n",
       "IPCA-15 (%)             No ano                            4,88        ...  \n",
       "IPP (%)                 No ano                            19,11       ...  \n",
       "Custo do m² (%)         No ano                            13,49       ...  \n",
       "Variação do PIB (%)     No ano                            1,0         ...  \n",
       "PIB per capita (R$)     No ano                            -           ...  \n",
       "Indústria (%)           No ano                            12,9        ...  \n",
       "Comércio (%)            No ano                            6,7         ...  \n",
       "Serviços (%)            No ano                            9,5         ...  "
      ],
      "text/html": [
       "<div>\n",
       "<style scoped>\n",
       "    .dataframe tbody tr th:only-of-type {\n",
       "        vertical-align: middle;\n",
       "    }\n",
       "\n",
       "    .dataframe tbody tr th {\n",
       "        vertical-align: top;\n",
       "    }\n",
       "\n",
       "    .dataframe thead th {\n",
       "        text-align: right;\n",
       "    }\n",
       "</style>\n",
       "<table border=\"1\" class=\"dataframe\">\n",
       "  <thead>\n",
       "    <tr style=\"text-align: right;\">\n",
       "      <th></th>\n",
       "      <th>Último</th>\n",
       "      <th>Anterior</th>\n",
       "      <th>Doze meses</th>\n",
       "      <th>No ano</th>\n",
       "    </tr>\n",
       "    <tr>\n",
       "      <th>Indicadores econômicos</th>\n",
       "      <th></th>\n",
       "      <th></th>\n",
       "      <th></th>\n",
       "      <th></th>\n",
       "    </tr>\n",
       "  </thead>\n",
       "  <tbody>\n",
       "    <tr>\n",
       "      <th>IPCA (%)</th>\n",
       "      <td>Último                            0,96 jul 2021</td>\n",
       "      <td>Anterior                            0,53 jun 2...</td>\n",
       "      <td>12 meses                            8,99      ...</td>\n",
       "      <td>No ano                            4,76        ...</td>\n",
       "    </tr>\n",
       "    <tr>\n",
       "      <th>INPC (%)</th>\n",
       "      <td>Último                            1,02 jul 2021</td>\n",
       "      <td>Anterior                            0,60 jun 2...</td>\n",
       "      <td>12 meses                            9,85      ...</td>\n",
       "      <td>No ano                            5,01        ...</td>\n",
       "    </tr>\n",
       "    <tr>\n",
       "      <th>IPCA-15 (%)</th>\n",
       "      <td>Último                            0,72 jul 2021</td>\n",
       "      <td>Anterior                            0,83 jun 2...</td>\n",
       "      <td>12 meses                            8,59      ...</td>\n",
       "      <td>No ano                            4,88        ...</td>\n",
       "    </tr>\n",
       "    <tr>\n",
       "      <th>IPP (%)</th>\n",
       "      <td>Último                            1,31 jun 2021</td>\n",
       "      <td>Anterior                            0,99 mai 2...</td>\n",
       "      <td>12 meses                            36,81     ...</td>\n",
       "      <td>No ano                            19,11       ...</td>\n",
       "    </tr>\n",
       "    <tr>\n",
       "      <th>Custo do m² (%)</th>\n",
       "      <td>Último                            1,89 jul 2021</td>\n",
       "      <td>Anterior                            2,46 jun 2...</td>\n",
       "      <td>12 meses                            22,60     ...</td>\n",
       "      <td>No ano                            13,49       ...</td>\n",
       "    </tr>\n",
       "    <tr>\n",
       "      <th>Variação do PIB (%)</th>\n",
       "      <td>Último                            1,0 1º tri 2...</td>\n",
       "      <td>Anterior                            -1,1 4º tr...</td>\n",
       "      <td>12 meses                            -3,8      ...</td>\n",
       "      <td>No ano                            1,0         ...</td>\n",
       "    </tr>\n",
       "    <tr>\n",
       "      <th>PIB per capita (R$)</th>\n",
       "      <td>Último                            33.593,82  2...</td>\n",
       "      <td>Anterior                            31.843,95 ...</td>\n",
       "      <td>12 meses                            -         ...</td>\n",
       "      <td>No ano                            -           ...</td>\n",
       "    </tr>\n",
       "    <tr>\n",
       "      <th>Indústria (%)</th>\n",
       "      <td>Último                            0,0 jun 2021</td>\n",
       "      <td>Anterior                            1,4 mai 2021</td>\n",
       "      <td>12 meses                            6,6       ...</td>\n",
       "      <td>No ano                            12,9        ...</td>\n",
       "    </tr>\n",
       "    <tr>\n",
       "      <th>Comércio (%)</th>\n",
       "      <td>Último                            -1,7 jun 2021</td>\n",
       "      <td>Anterior                            2,7 mai 2021</td>\n",
       "      <td>12 meses                            5,9       ...</td>\n",
       "      <td>No ano                            6,7         ...</td>\n",
       "    </tr>\n",
       "    <tr>\n",
       "      <th>Serviços (%)</th>\n",
       "      <td>Último                            1,7 jun 2021</td>\n",
       "      <td>Anterior                            1,7 mai 2021</td>\n",
       "      <td>12 meses                            0,4       ...</td>\n",
       "      <td>No ano                            9,5         ...</td>\n",
       "    </tr>\n",
       "  </tbody>\n",
       "</table>\n",
       "</div>"
      ]
     },
     "metadata": {},
     "execution_count": 136
    }
   ],
   "metadata": {}
  },
  {
   "cell_type": "markdown",
   "source": [
    "# **Exportar arquivo em excel**"
   ],
   "metadata": {}
  },
  {
   "cell_type": "code",
   "execution_count": null,
   "source": [
    "dataset.to_excel()"
   ],
   "outputs": [],
   "metadata": {}
  }
 ],
 "metadata": {
  "kernelspec": {
   "name": "python3",
   "display_name": "Python 3.9.6 64-bit ('datascience': conda)"
  },
  "language_info": {
   "codemirror_mode": {
    "name": "ipython",
    "version": 3
   },
   "file_extension": ".py",
   "mimetype": "text/x-python",
   "name": "python",
   "nbconvert_exporter": "python",
   "pygments_lexer": "ipython3",
   "version": "3.9.6"
  },
  "interpreter": {
   "hash": "aa5c80b4bff78a815e6574ff1050a04b68e1e145e951e5a22367d9d8dead012d"
  }
 },
 "nbformat": 4,
 "nbformat_minor": 5
}